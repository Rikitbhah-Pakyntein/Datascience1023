{
 "cells": [
  {
   "cell_type": "code",
   "execution_count": 1,
   "id": "9c13c043",
   "metadata": {},
   "outputs": [
    {
     "name": "stdout",
     "output_type": "stream",
     "text": [
      "hello world\n"
     ]
    }
   ],
   "source": [
    "print (\"hello world\")"
   ]
  },
  {
   "cell_type": "code",
   "execution_count": 2,
   "id": "f28e1a38",
   "metadata": {},
   "outputs": [
    {
     "name": "stdout",
     "output_type": "stream",
     "text": [
      "my name is Rikitbhah Pakyntein\n",
      "Hello data science\n"
     ]
    }
   ],
   "source": [
    "print (\"my name is Rikitbhah Pakyntein\")\n",
    "print(\"Hello data science\")"
   ]
  },
  {
   "cell_type": "code",
   "execution_count": 3,
   "id": "c7f7670a",
   "metadata": {},
   "outputs": [
    {
     "data": {
      "text/plain": [
       "25"
      ]
     },
     "execution_count": 3,
     "metadata": {},
     "output_type": "execute_result"
    }
   ],
   "source": [
    "10+15"
   ]
  },
  {
   "cell_type": "code",
   "execution_count": 4,
   "id": "0a10bfc4",
   "metadata": {},
   "outputs": [
    {
     "data": {
      "text/plain": [
       "13"
      ]
     },
     "execution_count": 4,
     "metadata": {},
     "output_type": "execute_result"
    }
   ],
   "source": [
    "23-10"
   ]
  },
  {
   "cell_type": "markdown",
   "id": "4a79d94c",
   "metadata": {},
   "source": [
    "ctrl+enter- to execute/ run the cell\n",
    "shift +enter execute / run the cell\n",
    "\n",
    "esc+a- to add a cell above the current cell\n",
    "esc+b- to add a cell below the current cell\n",
    "\n",
    "esc+d+d- to delete the selected cell"
   ]
  }
 ],
 "metadata": {
  "kernelspec": {
   "display_name": "Python 3 (ipykernel)",
   "language": "python",
   "name": "python3"
  },
  "language_info": {
   "codemirror_mode": {
    "name": "ipython",
    "version": 3
   },
   "file_extension": ".py",
   "mimetype": "text/x-python",
   "name": "python",
   "nbconvert_exporter": "python",
   "pygments_lexer": "ipython3",
   "version": "3.11.5"
  }
 },
 "nbformat": 4,
 "nbformat_minor": 5
}
