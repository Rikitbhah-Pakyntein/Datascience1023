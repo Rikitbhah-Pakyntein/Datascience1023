{
 "cells": [
  {
   "cell_type": "code",
   "execution_count": 9,
   "id": "a9794f40",
   "metadata": {},
   "outputs": [
    {
     "name": "stdout",
     "output_type": "stream",
     "text": [
      "Enter your ID: ffff\n",
      "Enter your password: gggg\n",
      "Forgot password? (Y/N): y\n",
      "OTP generated: 146698\n",
      "Enter the OTP: 666666\n",
      "Invalid OTP. Attempts remaining: 2\n",
      "Enter the OTP: 66666\n",
      "Invalid OTP. Attempts remaining: 1\n",
      "Enter the OTP: 66666\n",
      "Invalid OTP. Attempts remaining: 0\n",
      "Max attempts reached. Try again later.\n"
     ]
    }
   ],
   "source": [
    "import numpy as np\n",
    "def validate_user():\n",
    "    id = input(\"Enter your ID: \")\n",
    "    password = input(\"Enter your password: \")\n",
    "    if id == \"data_science@xyz.com\" and password == \"123456\":\n",
    "        print(\"Login successful!\")\n",
    "    else:\n",
    "        forgot_password = input(\"Forgot password? (Y/N): \")\n",
    "        if forgot_password.upper() == \"Y\":\n",
    "            otp = np.random.randint(100000, 999999)\n",
    "            print(\"OTP generated:\", otp)\n",
    "            for attempt in range(3):\n",
    "                entered_otp = int(input(\"Enter the OTP: \"))\n",
    "                if entered_otp == otp:\n",
    "                    print(\"OTP validation successful!\")\n",
    "                    break\n",
    "                else:\n",
    "                    print(\"Invalid OTP. Attempts remaining:\", 2 - attempt)\n",
    "                    if attempt == 2:\n",
    "                        print(\"Max attempts reached. Try again later.\")\n",
    "        else:\n",
    "            print(\"Please re-enter your details.\")\n",
    "validate_user()"
   ]
  },
  {
   "cell_type": "code",
   "execution_count": 4,
   "id": "7accba14",
   "metadata": {},
   "outputs": [
    {
     "name": "stdout",
     "output_type": "stream",
     "text": [
      "Enter your user ID: hdfhdfh\n",
      "Enter your password: ghdhfh\n",
      "Invalid user ID or password.\n",
      "Forgot password? (Y/N): y\n",
      "OTP generated: 574965\n",
      "Enter the OTP: 574965\n",
      "OTP validation successful!\n"
     ]
    }
   ],
   "source": [
    "import numpy as np\n",
    "\n",
    "def validate_user():\n",
    "    user_id = input(\"Enter your user ID: \")\n",
    "    password = input(\"Enter your password: \")\n",
    "\n",
    "    # Check if user ID and password are correct\n",
    "    if user_id == \"admin\" and password == \"password\":\n",
    "        print(\"Login successful!\")\n",
    "    else:\n",
    "        print(\"Invalid user ID or password.\")\n",
    "\n",
    "        # Ask if user forgot password\n",
    "        forgot_password = input(\"Forgot password? (Y/N): \")\n",
    "\n",
    "        if forgot_password.upper() == \"Y\":\n",
    "            # Generate OTP\n",
    "            otp = np.random.randint(100000, 999999)\n",
    "            print(\"OTP generated:\", otp)\n",
    "\n",
    "            # Validate OTP\n",
    "            for attempt in range(3):\n",
    "                entered_otp = input(\"Enter the OTP: \")\n",
    "\n",
    "                if entered_otp == str(otp):\n",
    "                    print(\"OTP validation successful!\")\n",
    "                    break\n",
    "                else:\n",
    "                    print(\"Invalid OTP. Attempts remaining:\", 2 - attempt)\n",
    "\n",
    "            else:\n",
    "                print(\"Max attempts reached. Try again after some time.\")\n",
    "        else:\n",
    "            print(\"Please re-enter your details.\")\n",
    "\n",
    "validate_user()"
   ]
  },
  {
   "cell_type": "code",
   "execution_count": null,
   "id": "18cc93f1",
   "metadata": {},
   "outputs": [],
   "source": [
    "import numpy as np\n",
    "\n",
    "def validate_user():\n",
    "    id = input(\"Enter your ID: \")\n",
    "    password = input(\"Enter your password: \")\n",
    "\n",
    "    # Check if ID and password are correct\n",
    "    if id == \"data_science@xyz.com\" and password == \"123456\":\n",
    "        print(\"Authentication successful!\")\n",
    "    else:\n",
    "        reset_password = input(\"Incorrect ID or password. Forgot password? (Y/N): \")\n",
    "\n",
    "        if reset_password.upper() == \"Y\":\n",
    "            generate_otp()\n",
    "        else:\n",
    "            validate_user()\n",
    "\n",
    "def generate_otp():\n",
    "    otp = np.random.randint(100000, 999999)\n",
    "    print(\"OTP generated:\", otp)\n",
    "\n",
    "    # Validate OTP\n",
    "    for attempt in range(3):\n",
    "        entered_otp = input(\"Enter the OTP: \")\n",
    "\n",
    "        if entered_otp == str(otp):\n",
    "            print(\"OTP validation successful!\")\n",
    "            return\n",
    "\n",
    "        print(\"Incorrect OTP. Attempts remaining:\", 2 - attempt)\n",
    "\n",
    "    print(\"Max attempts reached. Try again later.\")\n",
    "\n",
    "validate_user()"
   ]
  }
 ],
 "metadata": {
  "kernelspec": {
   "display_name": "Python 3 (ipykernel)",
   "language": "python",
   "name": "python3"
  },
  "language_info": {
   "codemirror_mode": {
    "name": "ipython",
    "version": 3
   },
   "file_extension": ".py",
   "mimetype": "text/x-python",
   "name": "python",
   "nbconvert_exporter": "python",
   "pygments_lexer": "ipython3",
   "version": "3.11.5"
  }
 },
 "nbformat": 4,
 "nbformat_minor": 5
}
